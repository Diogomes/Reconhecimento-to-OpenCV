{
  "nbformat": 4,
  "nbformat_minor": 0,
  "metadata": {
    "colab": {
      "name": "teste2aida.ipynb",
      "provenance": [],
      "authorship_tag": "ABX9TyMz4KRqQZvP03ic2CcZfihW",
      "include_colab_link": true
    },
    "kernelspec": {
      "name": "python3",
      "display_name": "Python 3"
    },
    "language_info": {
      "name": "python"
    }
  },
  "cells": [
    {
      "cell_type": "markdown",
      "metadata": {
        "id": "view-in-github",
        "colab_type": "text"
      },
      "source": [
        "<a href=\"https://colab.research.google.com/github/technaoifpe/Reconhecimento-to-OpenCV/blob/main/teste2aida.ipynb\" target=\"_parent\"><img src=\"https://colab.research.google.com/assets/colab-badge.svg\" alt=\"Open In Colab\"/></a>"
      ]
    },
    {
      "cell_type": "code",
      "metadata": {
        "colab": {
          "base_uri": "https://localhost:8080/"
        },
        "id": "6WNOgAt61R96",
        "outputId": "537f187f-8f43-4586-aeae-d1192722499c"
      },
      "source": [
        "print ('hello wrld')"
      ],
      "execution_count": 3,
      "outputs": [
        {
          "output_type": "stream",
          "text": [
            "hello wrld\n"
          ],
          "name": "stdout"
        }
      ]
    }
  ]
}